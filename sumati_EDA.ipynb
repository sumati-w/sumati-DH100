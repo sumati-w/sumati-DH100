{
 "cells": [
  {
   "cell_type": "markdown",
   "metadata": {},
   "source": [
    "<center> \n",
    "    \n",
    "# Oh My Lorde\n",
    "    \n",
    "    \n",
    "    \n",
    "<center> \n",
    "DigHum 100: Theory and Methods in Digital Humanities by Dr. Adam Anderson | Sumati Wadhwa | June 6th, 2021"
   ]
  },
  {
   "cell_type": "code",
   "execution_count": 23,
   "metadata": {},
   "outputs": [],
   "source": [
    "#!pip install lyricsgenius\n",
    "#one time install, don't do again"
   ]
  },
  {
   "cell_type": "code",
   "execution_count": 58,
   "metadata": {},
   "outputs": [],
   "source": [
    "#these commands are importing libraries \n",
    "from os.path import exists\n",
    "import pandas as pd\n",
    "import json\n",
    "import requests"
   ]
  },
  {
   "cell_type": "code",
   "execution_count": 25,
   "metadata": {},
   "outputs": [],
   "source": [
    "#this command is importing the lyricsgenius library and accessing my token key\n",
    "#which will allow me to access the Genius API \n",
    "#allowing me to scrape Genius for song lyrics \n",
    "import lyricsgenius\n",
    "genius = lyricsgenius.Genius('WqNvyHHRNtPudns-_KNamPtV6WwOg_Qfajshd3ZrtJE-B2SldeeO0YOxVCS3BQ0r')"
   ]
  },
  {
   "cell_type": "code",
   "execution_count": 26,
   "metadata": {},
   "outputs": [
    {
     "name": "stdout",
     "output_type": "stream",
     "text": [
      "Searching for songs by Lorde...\n",
      "\n",
      "Song 1: \"2014 Tour Dates\"\n",
      "Song 2: \"400 Lux\"\n",
      "Song 3: \"400 Lux (Live In Concert 2013)\"\n",
      "\n",
      "Reached user-specified song limit (3).\n",
      "Done. Found 3 songs.\n",
      "[Song(id, artist, ...), Song(id, artist, ...), Song(id, artist, ...)]\n"
     ]
    }
   ],
   "source": [
    "#simple test making sure that this actually works and Genius has songs by Lorde \n",
    "artist = genius.search_artist(\"Lorde\", max_songs=3, sort=\"title\")\n",
    "print(artist.songs)"
   ]
  },
  {
   "cell_type": "markdown",
   "metadata": {},
   "source": [
    "# Gathering the JSON Data"
   ]
  },
  {
   "cell_type": "code",
   "execution_count": 27,
   "metadata": {},
   "outputs": [
    {
     "name": "stdout",
     "output_type": "stream",
     "text": [
      "Searching for \"Pure Heroine\" by Lorde...\n",
      "Lyrics_PureHeroine.json already exists. Overwrite?\n",
      "(y/n): y\n",
      "Wrote Lyrics_PureHeroine.json.\n"
     ]
    }
   ],
   "source": [
    "#employing the genius API and saving songs from Pure Heroine and Melodrama in JSON files\n",
    "album = genius.search_album(\"Pure Heroine\", \"Lorde\")\n",
    "album.save_lyrics()"
   ]
  },
  {
   "cell_type": "code",
   "execution_count": 28,
   "metadata": {},
   "outputs": [
    {
     "name": "stdout",
     "output_type": "stream",
     "text": [
      "Searching for \"Melodrama\" by Lorde...\n",
      "Lyrics_Melodrama.json already exists. Overwrite?\n",
      "(y/n): y\n",
      "Wrote Lyrics_Melodrama.json.\n"
     ]
    }
   ],
   "source": [
    "album_2 = genius.search_album('Melodrama', 'Lorde')\n",
    "album_2.save_lyrics()"
   ]
  },
  {
   "cell_type": "code",
   "execution_count": 29,
   "metadata": {},
   "outputs": [
    {
     "data": {
      "text/plain": [
       "True"
      ]
     },
     "execution_count": 29,
     "metadata": {},
     "output_type": "execute_result"
    }
   ],
   "source": [
    "#just making sure my file exists so I can use it \n",
    "file_exists = exists('Lyrics_Melodrama.json')\n",
    "file_exists"
   ]
  },
  {
   "cell_type": "code",
   "execution_count": 30,
   "metadata": {},
   "outputs": [],
   "source": [
    "json_file = pd.read_json('Lyrics_PureHeroine.json', orient='index')\n",
    "csvData = json_file.to_csv('heroine.csv')\n",
    "csvData"
   ]
  },
  {
   "cell_type": "markdown",
   "metadata": {},
   "source": []
  },
  {
   "cell_type": "code",
   "execution_count": 31,
   "metadata": {},
   "outputs": [],
   "source": [
    "# importing the module\n",
    "import json\n",
    "  \n",
    "# Opening JSON file\n",
    "with open('Lyrics_PureHeroine.json') as json_file:\n",
    "    data = json.load(json_file)"
   ]
  },
  {
   "cell_type": "code",
   "execution_count": 32,
   "metadata": {},
   "outputs": [
    {
     "data": {
      "text/plain": [
       "dict"
      ]
     },
     "execution_count": 32,
     "metadata": {},
     "output_type": "execute_result"
    }
   ],
   "source": [
    "#checking what type my data is \n",
    "type(data)"
   ]
  },
  {
   "cell_type": "markdown",
   "metadata": {},
   "source": [
    "### peeking inside the json file, looking in the dictionary and trying to brute force grab the lyrics -- first attempt to get lyrics"
   ]
  },
  {
   "cell_type": "code",
   "execution_count": 47,
   "metadata": {
    "scrolled": false
   },
   "outputs": [
    {
     "data": {
      "text/plain": [
       "list"
      ]
     },
     "execution_count": 47,
     "metadata": {},
     "output_type": "execute_result"
    }
   ],
   "source": [
    "\n",
    "# Data is a Dictionary \n",
    "# Tracks is a Dictionary\n",
    "# Number -> 0,1,2,3 , etc\n",
    "   # Song\n",
    "      # Lyrics\n",
    "        # Value of Lyrics\n",
    "\n",
    "first_song = data['tracks'][0]['song']['lyrics']"
   ]
  },
  {
   "cell_type": "code",
   "execution_count": 34,
   "metadata": {},
   "outputs": [
    {
     "data": {
      "text/plain": [
       "'[Verse 1]\\nDon\\'t you think that it\\'s boring how people talk?\\nMaking smart with their words again, well, I\\'m bored\\nBecause I\\'m doing this for the thrill of it, killin\\' it\\nNever not chasin\\' a million things I want\\nAnd I am only as young as the minute is, full of it\\nGetting pumped up on the little bright things I bought\\nBut I know they\\'ll never own me (Yeah)\\n\\n[Chorus]\\nBaby, be the class clown\\nI\\'ll be the beauty queen in tears\\nIt\\'s a new art form\\nShowing people how little we care (Yeah)\\nWe\\'re so happy\\nEven when we\\'re smilin\\' out of fear\\nLet\\'s go down to the tennis court\\nAnd talk it up like, \"Yeah\" (Yeah)\\n\\n[Verse 2]\\nPretty soon, I\\'ll be getting on my first plane\\nI\\'ll see the veins of my city like they do in space\\nBut my head\\'s fillin\\' up fast with the wicked games, up in flames\\nHow can I fuck with the fun again when I\\'m known?\\nAnd my boys trip me up with their heads again, lovin\\' them\\nEverything\\'s cool when we\\'re all in line for the throne\\nBut I know it\\'s not forever (Yeah)\\n[Chorus]\\nBaby, be the class clown\\nI\\'ll be the beauty queen in tears\\nIt\\'s a new art form\\nShowing people how little we care (Yeah)\\nWe\\'re so happy\\nEven when we\\'re smilin\\' out of fear\\nLet\\'s go down to the tennis court\\nAnd talk it up like, \"Yeah\" (Yeah)\\n\\n[Bridge]\\nIt looked all right in the pictures (Yeah)\\nGetting caught\\'s half of the trip though, isn\\'t it? (Yeah)\\nI\\'ll fall apart, with all my heart (Yeah)\\nAnd you can watch from your window (Yeah)\\nAnd you can watch from your window\\n\\n[Chorus]\\nBaby, be the class clown\\nI\\'ll be the beauty queen in tears\\nIt\\'s a new art form\\nShowing people how little we care (Yeah)\\nWe\\'re so happy\\nEven when we\\'re smilin\\' out of fear\\nLet\\'s go down to the tennis court\\nAnd talk it up like, \"Yeah\" (Yeah)\\n[Outro]\\nAnd talk it up like, \"Yeah\" (Yeah)\\nAnd talk it up like, \"Yeah\" (Yeah)\\nLet\\'s go down to the tennis court\\nAnd talk it up like, \"Yeah\" (Yeah)\\nAnd talk it up like, \"Yeah\" (Yeah)\\nAnd talk it up like, \"Yeah\" (Yeah)\\nLet\\'s go down to the tennis court\\nAnd talk it up like, \"Yeah\" (Yeah)\\n[Produced by Joel Little]'"
      ]
     },
     "execution_count": 34,
     "metadata": {},
     "output_type": "execute_result"
    }
   ],
   "source": [
    "first_song"
   ]
  },
  {
   "cell_type": "code",
   "execution_count": 35,
   "metadata": {},
   "outputs": [],
   "source": [
    "scnd_song = data['tracks'][1]['song']['lyrics']"
   ]
  },
  {
   "cell_type": "code",
   "execution_count": 36,
   "metadata": {},
   "outputs": [
    {
     "data": {
      "text/plain": [
       "\"[Verse 1]\\nWe're never done with killing time\\nCan I kill it with you\\nTill the veins run red and blue?\\nWe come around here all the time\\nGot a lot to not do\\nLet me kill it with you\\n\\n[Pre-Chorus]\\nYou pick me up and take me home again\\nHead out the window again\\nWe're hollow like the bottles that we drain\\nYou drape your wrists over the steering wheel\\nPulses can drive from here\\nWe might be hollow but we're brave\\n\\n[Chorus]\\n(And I like you)\\nI love these roads where the houses don't change\\n(And I like you)\\nWhere we can talk like there's something to say\\n(And I like you)\\nI'm glad that we stopped kissing the tar on the highway\\n(And I like you)\\nWe move in the tree streets\\nI'd like it if you stayed\\n[Verse 2]\\nNow we're wearing long sleeves\\nAnd the heating comes on\\n(You buy me orange juice)\\nWe're getting good at this\\nDreams of clean teeth\\nI can tell that you're tired\\nBut you keep the car on\\nWhile you're waiting out front\\n\\n[Pre-Chorus]\\nYou pick me up and take me home again\\nHead out the window again\\nWe're hollow like the bottles that we drain\\nYou drape your wrists over the steering wheel\\nPulses can drive from here\\nWe might be hollow but we're brave\\n\\n[Chorus]\\n(And I like you)\\nI love these roads where the houses don't change\\n(And I like you)\\nWhere we can talk like there's something to say\\n(And I like you)\\nI'm glad that we stopped kissing the tar on the highway\\n(And I like you)\\nWe move in the tree streets\\nI'd like it if you stayed\\n[Bridge]\\nWe're never done with killing time\\nCan I kill it with you\\nTill the veins run red and blue?\\nWe come around here all the time\\nGot a lot to not do\\nLet me kill it with you\\n\\n[Chorus]\\n(And I like you)\\nI love these roads where the houses don't change\\n(And I like you)\\nWhere we can talk like there's something to say\\n(And I like you)\\nI'm glad that we stopped kissing the tar on the highway\\n(And I like you)\\nWe move in the tree streets\\nI'd like it if you stayed\\n\\n[Outro]\\n(And I like you)\\n(And I like you)\\nAnd I like you\\n\\n[Produced by Joel Little]\""
      ]
     },
     "execution_count": 36,
     "metadata": {},
     "output_type": "execute_result"
    }
   ],
   "source": [
    "scnd_song"
   ]
  },
  {
   "cell_type": "code",
   "execution_count": 44,
   "metadata": {},
   "outputs": [],
   "source": [
    "third_song = data['tracks'][2]['song']['lyrics']"
   ]
  },
  {
   "cell_type": "code",
   "execution_count": 45,
   "metadata": {},
   "outputs": [
    {
     "data": {
      "text/plain": [
       "\"[Verse 1]\\nI've never seen a diamond in the flesh\\nI cut my teeth on wedding rings in the movies\\nAnd I'm not proud of my address\\nIn a torn-up town, no postcode envy\\n\\n[Pre-Chorus]\\nBut every song's like\\nGold teeth, Grey Goose, trippin' in the bathroom\\nBloodstains, ball gowns, trashin' the hotel room\\nWe don't care\\nWe're driving Cadillacs in our dreams\\nBut everybody's like\\nCristal, Maybach, diamonds on your timepiece\\nJet planes, islands, tigers on a gold leash\\nWe don't care\\nWe aren't caught up in your love affair\\n\\n[Chorus]\\nAnd we'll never be royals (Royals)\\nIt don't run in our blood\\nThat kind of luxe just ain't for us\\nWe crave a different kind of buzz\\nLet me be your ruler (Ruler)\\nYou can call me queen bee\\nAnd baby, I'll rule (I'll rule, I'll rule, I'll rule)\\nLet me live that fantasy\\n[Verse 2]\\nMy friends and I, we've cracked the code\\nWe count our dollars on the train to the party\\nAnd everyone who knows us knows\\nThat we're fine with this, we didn't come from money\\n\\n[Pre-Chorus]\\nBut every song's like\\nGold teeth, Grey Goose, trippin' in the bathroom\\nBloodstains, ball gowns, trashin' the hotel room\\nWe don't care\\nWe're driving Cadillacs in our dreams\\nBut everybody's like\\nCristal, Maybach, diamonds on your timepiece\\nJet planes, islands, tiger's on a gold leash\\nWe don't care\\nWe aren't caught up in your love affair\\n[Chorus]\\nAnd we'll never be royals (Royals)\\nIt don't run in our blood\\nThat kind of luxe just ain't for us\\nWe crave a different kind of buzz\\nLet me be your ruler (Ruler)\\nYou can call me queen bee\\nAnd baby, I'll rule (I'll rule, I'll rule, I'll rule)\\nLet me live that fantasy\\n[Bridge]\\n(Oh, oh-oh)\\nWe're bigger than we ever dreamed\\nAnd I'm in love with being queen\\n(Oh, oh-oh)\\nLife is great without a care\\nWe aren't caught up in your love affair\\n\\n[Chorus]\\nAnd we'll never be royals (Royals)\\nIt don't run in our blood\\nThat kind of luxe just ain't for us\\nWe crave a different kind of buzz\\nLet me be your ruler (Ruler)\\nYou can call me queen bee\\nAnd baby, I'll rule (I'll rule, I'll rule, I'll rule)\\nLet me live that fantasy\\n[Produced by Joel Little]\\n[Video by Joel Kefali]\""
      ]
     },
     "execution_count": 45,
     "metadata": {},
     "output_type": "execute_result"
    }
   ],
   "source": [
    "third_song"
   ]
  },
  {
   "cell_type": "code",
   "execution_count": null,
   "metadata": {},
   "outputs": [],
   "source": []
  },
  {
   "cell_type": "code",
   "execution_count": 56,
   "metadata": {},
   "outputs": [
    {
     "name": "stdout",
     "output_type": "stream",
     "text": [
      "<class 'list'>\n",
      "10\n"
     ]
    }
   ],
   "source": [
    "\n",
    "# getting length of list\n",
    "length = len(data['tracks'])\n",
    "print(type(data['tracks']))\n",
    "print(length)\n"
   ]
  },
  {
   "cell_type": "markdown",
   "metadata": {},
   "source": [
    "## Employing another API for lyrics\n",
    "\n",
    "after my initial attempt with the proir json file from the genius API, I found a video on youtube that used the request library and was able to capture the raw lyrics from each song -- this is using Pure Heroine \n",
    "\n",
    "my next goal is to find a way to clean the data from the new line \"\\n\" indicators and put the lyrics alone with the title in a pandas dataframe"
   ]
  },
  {
   "cell_type": "code",
   "execution_count": 76,
   "metadata": {},
   "outputs": [
    {
     "data": {
      "text/plain": [
       "\"I've never seen a diamond in the flesh \\nI cut my teeth on wedding rings in the movies \\nAnd I'm not proud of my address, \\nIn the torn-up town, no post code envy \\nBut every song's like gold teeth, grey goose, trippin' in the bathroom \\n\\nBlood stains, ball gowns, trashin' the hotel room, \\n\\nWe don't care, we're driving Cadillacs in our dreams. \\n\\nBut everybody's like crystal, Maybach, diamonds on your time piece. \\n\\nJet planes, islands, tigers on a gold leash. \\n\\nWe don't care, we aren't caught up in your love affair. \\n\\n\\n\\nAnd we'll never be royals (royals). \\n\\nIt don't run in our blood, \\n\\nThat kind of lux just ain't for us. \\n\\nWe crave a different kind of buzz. \\n\\nLet me be your ruler (ruler), \\n\\nYou can call me queen Bee \\n\\nAnd baby I'll rule, I'll rule, I'll rule, I'll rule. \\n\\nLet me live that fantasy. \\n\\n\\n\\nMy friends and I \\x96 we've cracked the code. \\n\\nWe count our dollars on the train to the party. \\n\\nAnd everyone who knows us knows that we're fine with this, \\n\\nWe didn't come for money. \\n\\n\\n\\nBut every song's like gold teeth, grey goose, trippin' in the bathroom. \\n\\nBlood stains, ball gowns, trashin' the hotel room, \\n\\nWe don't care, we're driving Cadillacs in our dreams. \\n\\nBut everybody's like crystal, Maybach, diamonds on your time piece. \\n\\nJet planes, islands, tigers on a gold leash \\n\\nWe don't care we aren't caught up in your love affair \\n\\n\\n\\nAnd we'll never be royals (royals). \\n\\nIt don't run in our blood \\n\\nThat kind of lux just ain't for us \\n\\nWe crave a different kind of buzz. \\n\\nLet me be your ruler (ruler), \\n\\nYou can call me queen Bee \\n\\nAnd baby I'll rule, I'll rule, I'll rule, I'll rule. \\n\\nLet me live that fantasy. \\n\\n\\n\\nOooh ooooh ohhh \\n\\nWe're bigger than we ever dreamed, \\n\\nAnd I'm in love with being queen. \\n\\nOooooh ooooh ohhhhh \\n\\nLife is game without a care \\n\\nWe aren't caught up in your love affair. \\n\\n\\n\\nAnd we'll never be royals (royals). \\n\\nIt don't run in our blood \\n\\nThat kind of lux just ain't for us \\n\\nWe crave a different kind of buzz \\n\\nLet me be your ruler (ruler), \\n\\nYou can call me queen Bee \\n\\nAnd baby I'll rule, I'll rule, I'll rule, I'll rule. \\n\\nLet me live that fantasy.\""
      ]
     },
     "execution_count": 76,
     "metadata": {},
     "output_type": "execute_result"
    }
   ],
   "source": [
    "artist = 'Lorde'\n",
    "song_title = 'Royals'\n",
    "#keywords = {'love'}\n",
    "url = 'https://api.lyrics.ovh/v1/' + artist + '/' + song_title\n",
    "\n",
    "#fetching the lyrics from the song\n",
    "response = requests.get(url)\n",
    "json_data = json.loads(response.content)\n",
    "royals_lyrics = json_data['lyrics']\n",
    "royals_lyrics"
   ]
  },
  {
   "cell_type": "code",
   "execution_count": 77,
   "metadata": {},
   "outputs": [
    {
     "data": {
      "text/plain": [
       "\"Don't you think that it's boring how people talk\\nMaking smart with their words again - well, I'm bored\\nBecause I'm doing this for the thrill of it, killing it\\nNever not chasing the million things I want\\nAnd I am only as young as the minute is full of it\\nGetting pumped up on the little bright things I bought\\n\\nBut I know they'll never own me (Yeah)\\n\\n\\n\\nBaby, be the class clown, I'll be the beauty queen in tears\\n\\nIt's a new art form showing people how little we care (Yeah)\\n\\nWe're so happy even when we're smiling out of fear\\n\\nLet's go down to the tennis court and talk it up like, yeah (Yeah)\\n\\n\\n\\nPretty soon I'll be getting on my first plane\\n\\nI'll see the veins of my city like they do in space\\n\\nBut my head's filling up fast with the wicked games, up in flames\\n\\nHow can they f*ck with the fun again when I'm known\\n\\nAnd my boys trip me up with their heads again, loving them\\n\\nEverything's cool when we're all in line for the throne\\n\\nBut I know it's not forever (Yeah)\\n\\n\\n\\nBaby, be the class clown, I'll be the beauty queen in tears\\n\\nIt's a new art form showing people how little we care (Yeah)\\n\\nWe're so happy even when we're smiling out of fear\\n\\nLet's go down to the tennis court and talk it up like, yeah (Yeah)\\n\\n\\n\\nIt looked alright in the pictures (Yeah)\\n\\nGetting caught's off with the trip though, isn't it (Yeah)\\n\\nI'll fall apart, with all my heart (Yeah)\\n\\nYou could watch from your window (Yeah)\\n\\nYou could watch from your window\\n\\n\\n\\nBaby, be the class clown, I'll be the beauty queen in tears\\n\\nIt's a new art form showing people how little we care (Yeah)\\n\\nWe're so happy even when we're smiling out of fear\\n\\nLet's go down to the tennis court and talk it up like, yeah (Yeah)\\n\\nAnd talk it up like, yeah (Yeah)\\n\\nAnd talk it up like, yeah (Yeah)\\n\\nLet's go down to the tennis court and talk it up like, yeah (Yeah)\\n\\nAnd talk it up like, yeah (Yeah)\\n\\nAnd talk it up like, yeah (Yeah)\\n\\nLet's go down to the tennis court and talk it up like, yeah (Yeah)\""
      ]
     },
     "execution_count": 77,
     "metadata": {},
     "output_type": "execute_result"
    }
   ],
   "source": [
    "artist = 'Lorde'\n",
    "song_title = 'Tennis Court'\n",
    "#keywords = {'love'}\n",
    "url = 'https://api.lyrics.ovh/v1/' + artist + '/' + song_title\n",
    "\n",
    "#fetching the lyrics from the song\n",
    "response = requests.get(url)\n",
    "json_data = json.loads(response.content)\n",
    "tennis_lyrics = json_data['lyrics']\n",
    "tennis_lyrics"
   ]
  },
  {
   "cell_type": "code",
   "execution_count": 78,
   "metadata": {},
   "outputs": [
    {
     "data": {
      "text/plain": [
       "\"We're never done with killing time\\nCan I kill it with you?\\nTill our veins run red and...blue\\nWe come around here all the time\\nGot a lot to not do, let me kill it with you\\n\\n\\nYou pick me up and take me home again\\n\\nHead out the window again\\n\\nWe're hollow like the bottles that we drain\\n\\nYou drape your wrist over the steering wheel\\n\\nMoses can drive from here\\n\\nWe might be hollow, but we're brave\\n\\n\\n\\nAnd I like you\\n\\nI love these roads where the houses don't change\\n\\nAnd I like you\\n\\nWhere we can talk like there's something to say\\n\\nAnd I like you\\n\\nI'm glad that we stopped kissing in the dark\\n\\nAnd I like you\\n\\nWe move in between streets\\n\\nI'd like it if you stayed\\n\\n\\n\\nNow wear long sleeves, and the heating comes on\\n\\nYou buy me orange juice\\n\\nWe're getting good at this\\n\\nDreams of queen teeth\\n\\nI can tell that you're tired\\n\\nBut you keep the car on\\n\\nWhile you're waiting out front\\n\\n\\n\\nYou pick me up and take me home again\\n\\nHead out the window again\\n\\nWe're hollow like the bottles that we drain\\n\\nYou drape your wrist over the steering wheel\\n\\nMoses can drive from here\\n\\nWe might be hollow, but we're brave\\n\\n\\n\\nAnd I like you\\n\\nI love these roads where the houses don't change\\n\\nAnd I like you\\n\\nWhere we can talk like there's something to say\\n\\nAnd I like you\\n\\nI'm glad that we stopped kissing in the dark\\n\\nAnd I like you\\n\\nWe move in between streets\\n\\nI'd like it if you stayed\\n\\n\\n\\nWe're never done with killing time\\n\\nCan I kill it with you?\\n\\nTill our veins run red and...blue\\n\\nWe come around here all the time\\n\\nGot a lot to not do, let me kill it with you\\n\\n\\n\\nAnd I like you\\n\\nI love these roads where the houses don't change\\n\\nAnd I like you\\n\\nWhere we can talk like there's something to say\\n\\nAnd I like you\\n\\nI'm glad that we stopped kissing in the dark\\n\\nAnd I like you\\n\\nWe move in between streets\\n\\nI'd like it if you stayed\""
      ]
     },
     "execution_count": 78,
     "metadata": {},
     "output_type": "execute_result"
    }
   ],
   "source": [
    "artist = 'Lorde'\n",
    "song_title = '400 Lux'\n",
    "#keywords = {'love'}\n",
    "url = 'https://api.lyrics.ovh/v1/' + artist + '/' + song_title\n",
    "\n",
    "#fetching the lyrics from the song\n",
    "response = requests.get(url)\n",
    "json_data = json.loads(response.content)\n",
    "lux_lyrics = json_data['lyrics']\n",
    "lux_lyrics"
   ]
  },
  {
   "cell_type": "code",
   "execution_count": 79,
   "metadata": {},
   "outputs": [
    {
     "data": {
      "text/plain": [
       "\"The drink you spilt all over me\\r\\nLovers spit left on repeat\\r\\nMy mom and dad let me stay home\\r\\nIt drives you crazy, getting old\\r\\nWe can talk it so good\\n\\nWe can make it so divine\\n\\nWe can talk it good, how you wish you would be all the time\\n\\n\\n\\nThe drink you spilt all over me\\n\\nLovers spit left on repeat\\n\\nMy mom and dad let me stay home\\n\\nIt drives you crazy, getting old\\n\\n\\n\\nThe drink you spilt all over me\\n\\nLovers spit left on repeat\\n\\nMy mom and dad let me stay home\\n\\nIt drives you crazy, getting old\\n\\n\\n\\nThis dream isn't feeling sweet\\n\\nWe're reeling through the midnight streets\\n\\nAnd I've never felt more alone\\n\\nIt feels so scary getting old\\n\\n\\n\\nWe can talk it so good\\n\\nWe can make it so divine\\n\\nWe can talk it good, how you wish you would be all the time\\n\\n\\n\\nThis dream isn't feeling sweet\\n\\nWe're reeling through the midnight streets\\n\\nAnd I've never felt more alone\\n\\nIt feels so scary getting old\\n\\n\\n\\nThis dream isn't feeling sweet\\n\\nWe're reeling through the midnight streets\\n\\nAnd I've never felt more alone\\n\\nIt feels so scary getting old\\n\\n\\n\\nYou're the only friend I need (You're the only friend I need)\\n\\nSharing beds like little kids (Sharing beds like we're kids)\\n\\nI will laugh until my ribs get tough/soft (I will laugh until my ribs get tough/soft)\\n\\nThat I will never be in love (That I will never be in love)\\n\\n\\n\\nYou're the only friend I need (You're the only friend I need)\\n\\nSharing beds like little kids (Sharing beds like we're kids)\\n\\nI will laugh until my ribs get tough/soft (I will laugh until my ribs get tough/soft)\\n\\nThat I will never be in love\\n\\nThat I will never be in love\\n\\nThat I will never be in love\\n\\nThat I will never be in love\\n\\nThat I will never be in love\""
      ]
     },
     "execution_count": 79,
     "metadata": {},
     "output_type": "execute_result"
    }
   ],
   "source": [
    "artist = 'Lorde'\n",
    "song_title = 'Ribs'\n",
    "#keywords = {'love'}\n",
    "url = 'https://api.lyrics.ovh/v1/' + artist + '/' + song_title\n",
    "\n",
    "#fetching the lyrics from the song\n",
    "response = requests.get(url)\n",
    "json_data = json.loads(response.content)\n",
    "ribs_lyrics = json_data['lyrics']\n",
    "ribs_lyrics"
   ]
  },
  {
   "cell_type": "code",
   "execution_count": 80,
   "metadata": {},
   "outputs": [
    {
     "data": {
      "text/plain": [
       "\"I remember when your head caught flame\\r\\nIt kissed your scalp and caressed your brain (I remember when your head caught flame)\\r\\nWell you laughed, baby it's okay\\r\\nIt's buzzcut season anyway (Well you laughed, baby it's okay)\\r\\nExplosions on TV\\n\\nAnd all the girls with heads inside a dream\\n\\nSo now we live beside the pool\\n\\nWhere everything is good\\n\\n\\n\\nWe ride the bus with the knees pulled in\\n\\nPeople should see how we're living (We ride the bus with the knees pulled in)\\n\\nShut my eyes to the song that plays\\n\\nSometimes this has a hot, sweet taste (Shut my eyes to the song that plays)\\n\\n\\n\\nThe men up on the news\\n\\nThey try to tell us all that we will lose\\n\\nBut it's so easy in this blue\\n\\nWhere everything is good\\n\\n\\n\\nAnd I'll never go home again (Place the call, feel it start)\\n\\nFavorite friend, and nothing's when nothing's true\\n\\nI'd live in a hologram with you\\n\\nWe're all the things that we do for fun (and I'll breathe, and it goes)\\n\\nPlay along (make believe, its hyper real)\\n\\nBut I'd live in a hologram with you\\n\\n\\n\\nCola with the burnt-out taste\\n\\nI'm the one you tell your fears to\\n\\nThere'll never be enough of us\\n\\n\\n\\nExplosions on TV\\n\\nAnd all the girls with heads inside a dream\\n\\nSo now we live beside the pool\\n\\nWhere everything is good\\n\\nAnd I'll never go home again (Place the call, feel it start)\\n\\nFavorite friend, and nothing's when nothing's true\\n\\nI'd live in a hologram with you\\n\\nWe're all the things that we do for fun (and I'll breathe, and it goes)\\n\\nPlay along (make believe, its hyper real)\\n\\nBut I'd live in a hologram with you\""
      ]
     },
     "execution_count": 80,
     "metadata": {},
     "output_type": "execute_result"
    }
   ],
   "source": [
    "artist = 'Lorde'\n",
    "song_title = 'Buzzcut Season'\n",
    "#keywords = {'love'}\n",
    "url = 'https://api.lyrics.ovh/v1/' + artist + '/' + song_title\n",
    "\n",
    "#fetching the lyrics from the song\n",
    "response = requests.get(url)\n",
    "json_data = json.loads(response.content)\n",
    "buzz_lyrics = json_data['lyrics']\n",
    "buzz_lyrics"
   ]
  },
  {
   "cell_type": "code",
   "execution_count": 81,
   "metadata": {},
   "outputs": [
    {
     "data": {
      "text/plain": [
       "'There\\'s a humming in the restless summer air\\r\\nAnd we\\'re slipping off the course that we prepared\\r\\nBut in all chaos, there is calculation\\r\\nDropping glasses just to hear them break\\r\\nYou\\'ve been drinking like the world was gonna end (it didn\\'t)\\r\\nTook a shiner from the fist of your best friend (go figure)\\n\\nIt\\'s clear that someone\\'s gotta go\\n\\nWe mean it but I promise we\\'re not mean\\n\\n\\n\\nAnd the cry goes out\\n\\nThey lose their minds for us\\n\\nAnd how it plays out\\n\\nNow we\\'re in the ring\\n\\nAnd we\\'re coming for blood\\n\\n\\n\\nYou could try and take us (oh-oh)\\n\\nBut we\\'re the gladiators (Oh! Oh!)\\n\\nEveryone a rager (oh-oh)\\n\\nBut secretly they\\'re saviors\\n\\nGlory and gore go hand in hand\\n\\nThat\\'s why we\\'re making headlines (Oh! Oh!)\\n\\nYou could try and take us (oh-oh)\\n\\nBut victory\\'s contagious\\n\\n\\n\\nDelicate in every way but one (the swordplay)\\n\\nGod knows we like archaic kinds of fun (the old way)\\n\\nChance is the only game I play with, baby\\n\\nWe let our battles choose us\\n\\n\\n\\nAnd the cry goes out\\n\\nThey lose their minds for us\\n\\nAnd how it plays out\\n\\nNow we\\'re in the ring\\n\\nAnd we\\'re coming for blood\\n\\n\\n\\nYou could try and take us (oh-oh)\\n\\nBut we\\'re the gladiators (Oh! Oh!)\\n\\nEveryone a rager (oh-oh)\\n\\nBut secretly they\\'re saviors\\n\\nGlory and gore go hand in hand\\n\\nThat\\'s why we\\'re making headlines (Oh! Oh!)\\n\\nYou could try and take us (oh-oh)\\n\\nBut victory\\'s contagious\\n\\n\\n\\nNo-one round here\\'s good at keeping their eyes closed\\n\\nThe sun\\'s starting to light up when we\\'re walking home\\n\\nTired little laughs, gold-lie promises, we\\'ll always win at this\\n\\nI don\\'t ever think about death\\n\\nIt\\'s alright if you do, it\\'s fine\\n\\nWe gladiate but I guess we\\'re really fighting ourselves\\n\\nRoughing up our minds so we\\'re ready when the kill time comes\\n\\nWide awake in bed, words in my brain,\\n\\n\"Secretly you love this do you even wanna go free?\"\\n\\nLet me in the ring, I\\'ll show you what that big word means\\n\\n\\n\\nYou could try and take us (oh-oh)\\n\\nBut we\\'re the gladiators (Oh! Oh!)\\n\\nEveryone a rager (oh-oh)\\n\\nBut secretly they\\'re saviors\\n\\nGlory and gore go hand in hand\\n\\nThat\\'s why we\\'re making headlines (Oh! Oh!)\\n\\nYou could try and take us (oh-oh)\\n\\nBut victory\\'s contagious'"
      ]
     },
     "execution_count": 81,
     "metadata": {},
     "output_type": "execute_result"
    }
   ],
   "source": [
    "artist = 'Lorde'\n",
    "song_title = 'Glory and Gore'\n",
    "#keywords = {'love'}\n",
    "url = 'https://api.lyrics.ovh/v1/' + artist + '/' + song_title\n",
    "\n",
    "#fetching the lyrics from the song\n",
    "response = requests.get(url)\n",
    "json_data = json.loads(response.content)\n",
    "gore_lyrics = json_data['lyrics']\n",
    "gore_lyrics"
   ]
  },
  {
   "cell_type": "code",
   "execution_count": 82,
   "metadata": {},
   "outputs": [
    {
     "data": {
      "text/plain": [
       "\"Today is my birthday, and I'm riding high\\nHair is dripping, hiding that I'm terrified\\nBut this is summer, playing dumber than in fall\\n\\nEverything I say falls right back\\nInto everything I'm not\\n\\nIn the swing of things\\n\\nBut what I really mean is\\n\\nNot in the swing of things yet\\n\\n\\n\\nRiding around on the bikes, we're still sane\\n\\nI won't be her, tripping over onstage\\n\\nHey, it's all cool, I still like hotels, but I think that'll change\\n\\nStill like hotels, and my newfound fame\\n\\nHey, promise I can stay good\\n\\nEverything feels right\\n\\nI'm little, but I'm coming for the crown\\n\\nI'm little, but I'm coming for you\\n\\nChase paper, get it\\n\\nI'm little but I'm coming for the title\\n\\nHeld by everyone who's up\\n\\n\\n\\nAll work and no play\\n\\nNever made me lose it\\n\\nAll business all day\\n\\nKeeps me up a level\\n\\nAll work and no play\\n\\nKeeps me on the new shit, yeah\\n\\nAll work and no play\\n\\nNever made me lose it\\n\\nAll business all day\\n\\nKeeps me up a level\\n\\nAll work and no play\\n\\nKeeps me on the new shit, yeah\\n\\n\\n\\nOnly bad people live to see their likeness in stone\\n\\nOnly bad people live to see their likeness in stone\\n\\nWhat does that make me?\\n\\nNot in the swing of things\\n\\nBut what I really mean is\\n\\nNot in the swing of things yet\\n\\nNot in the swing of things\\n\\nBut what I really mean is\\n\\nNot in the swing of things yet\\n\\nAll work and no play\\n\\nNever made me lose it\\n\\nAll business all day\\n\\nKeeps me up a level\\n\\nAll work and no play\\n\\nKeeps me on the new shit, yeah\""
      ]
     },
     "execution_count": 82,
     "metadata": {},
     "output_type": "execute_result"
    }
   ],
   "source": [
    "artist = 'Lorde'\n",
    "song_title = 'Still Sane'\n",
    "#keywords = {'love'}\n",
    "url = 'https://api.lyrics.ovh/v1/' + artist + '/' + song_title\n",
    "\n",
    "#fetching the lyrics from the song\n",
    "response = requests.get(url)\n",
    "json_data = json.loads(response.content)\n",
    "sane_lyrics = json_data['lyrics']\n",
    "sane_lyrics"
   ]
  },
  {
   "cell_type": "code",
   "execution_count": 83,
   "metadata": {},
   "outputs": [
    {
     "data": {
      "text/plain": [
       "\"We wouldn't be seen dead here in the day\\nI guess you're lucky that it's dark now\\nAnd if I like it then we'll stay\\nImpress the empress, take a shot now\\n\\nWe got the glow in our mouths...\\n\\nWhite teeth teens are out...\\n\\nWhite teeth teens are up for it\\n\\n\\n\\nI know you love it when the hairpins start to drop\\n\\nI like your reckoning, but we got our methods and there's nothing here to stop\\n\\nTo stop this\\n\\n\\n\\nIf you want we'll help tonight to split his schemes\\n\\nGive the bruises out like gifts\\n\\nYou'll get the picture of your dreams\\n\\nI won't be smiling bout the notes\\n\\nFrom my admirers fill my dashboard just the same\\n\\n\\n\\nWe got the glow in our mouths...\\n\\nWhite teeth teens are out...\\n\\nWhite teeth teens are up for it\\n\\n\\n\\nI know you love it when the hairpins start to drop\\n\\nI like your reckoning, but we got our methods and there's nothing here to stop\\n\\nTo stop this\\n\\nI know you love it when the hairpins start to drop\\n\\nI like your reckoning, but we got our methods and there's nothing here to stop\\n\\nTo stop this\\n\\n\\n\\nI'll let you in on something big\\n\\nI am not a white teeth teen\\n\\nI tried to join but never did\\n\\nThe way they are, the way they seem is something else, it's in the blood\\n\\nTheir molars blinking like the lights, in the underpass where we all sit\\n\\nAnd do nothing\\n\\nAnd love it\\n\\n\\n\\nAnd everything works out so good\\n\\nI wear the robe like no one could\\n\\nAnd everything works out so good\\n\\nI wear the robe like no one could\\n\\n\\n\\nWe got the glow in our mouths...\\n\\nWhite teeth teens are out...\\n\\nWe got the glow in our mouths...\\n\\nWhite teeth teens are out\""
      ]
     },
     "execution_count": 83,
     "metadata": {},
     "output_type": "execute_result"
    }
   ],
   "source": [
    "artist = 'Lorde'\n",
    "song_title = 'White Teeth Teens'\n",
    "#keywords = {'love'}\n",
    "url = 'https://api.lyrics.ovh/v1/' + artist + '/' + song_title\n",
    "\n",
    "#fetching the lyrics from the song\n",
    "response = requests.get(url)\n",
    "json_data = json.loads(response.content)\n",
    "white_lyrics = json_data['lyrics']\n",
    "white_lyrics"
   ]
  },
  {
   "cell_type": "code",
   "execution_count": 84,
   "metadata": {},
   "outputs": [
    {
     "data": {
      "text/plain": [
       "\"That slow burn wait while it gets dark\\r\\nBruising the sun, I feel grown up with you in your car\\r\\nI know it's dumb\\r\\nOooh...\\n\\nWe both got a million bad habits to kick\\n\\nNot sleeping is one\\n\\nWe're biting our nails, you're biting my lip\\n\\nI'm biting my tongue\\n\\n\\n\\nOooh...\\n\\n\\n\\nBut people are talking, people are talking\\n\\nBut people are talking, people are talking\\n\\n\\n\\nRaise a glass, 'cause I'm not done saying it\\n\\nThey all wanna get rough, get away with it\\n\\nLet 'em talk, 'cause we're dancing in this world alone\\n\\nWorld alone, we're alone\\n\\n\\n\\nAll my fake friends and all of their noise\\n\\nComplain about work\\n\\nThey're studying business, I study the floor\\n\\nAnd you haven't stopped smoking all night\\n\\nMaybe the Internet raised us\\n\\nOr maybe people are jerks\\n\\n\\n\\nBut people are talking, people are talking (but not you)\\n\\nBut people are talking, people are talking\\n\\n\\n\\nRaise a glass, 'cause I'm not done saying it\\n\\nThey all wanna get rough, get away with it\\n\\nLet 'em talk, 'cause we're dancing in this world alone\\n\\nWorld alone, we're alone\\n\\n\\n\\nAll the double-edged people and schemes\\n\\nThey make a mess, then go home and get clean\\n\\nYou're my best friend and we're dancing in a world alone\\n\\nA world alone, we're all alone\\n\\n\\n\\nI know we're not everlasting\\n\\nWe're a trainwreck waiting to happen\\n\\nOne day the blood won't flow so gladly\\n\\nOne day we'll all get still (but people are talking, people are talking)\\n\\nGet still\\n\\n\\n\\nBut people are talking, people are talking\\n\\nBut people are talking, people are talking\\n\\n\\n\\nOooh...\\n\\n\\n\\nRaise a glass, 'cause I'm not done saying it\\n\\nThey all wanna get rough, get away with it\\n\\nLet 'em talk, 'cause we're dancing in this world alone\\n\\nWorld alone, we're alone\\n\\n\\n\\nAll the double-edged people and schemes\\n\\nThey make a mess, then go home and get clean\\n\\nYou're my best friend and we're dancing in a world alone\\n\\nA world alone, we're all alone\\n\\n\\n\\nBut people are talking, people are talking\\n\\nBut people are talking, people are talking\\n\\nBut people are talking, people are talking\\n\\nBut people are talking, people are talking... Let 'em talk!\""
      ]
     },
     "execution_count": 84,
     "metadata": {},
     "output_type": "execute_result"
    }
   ],
   "source": [
    "artist = 'Lorde'\n",
    "song_title = 'A World Alone'\n",
    "#keywords = {'love'}\n",
    "url = 'https://api.lyrics.ovh/v1/' + artist + '/' + song_title\n",
    "\n",
    "#fetching the lyrics from the song\n",
    "response = requests.get(url)\n",
    "json_data = json.loads(response.content)\n",
    "alone_lyrics = json_data['lyrics']\n",
    "alone_lyrics"
   ]
  },
  {
   "cell_type": "markdown",
   "metadata": {},
   "source": [
    "# Created Pandas Dataframe \n",
    "\n",
    "after hours of figuring out how to extract and format the information from the API (still getting the hang of things) I created a pandas dataframe and now am going to continue to work on how to use the .str methods to properly format my lyrics! \n",
    "\n",
    "Got the .str coding methods from a prior student in DH100 -- David Julio Panangian -- and that got me a head start on cleaning up the data \n"
   ]
  },
  {
   "cell_type": "code",
   "execution_count": 92,
   "metadata": {},
   "outputs": [
    {
     "data": {
      "text/html": [
       "<div>\n",
       "<style scoped>\n",
       "    .dataframe tbody tr th:only-of-type {\n",
       "        vertical-align: middle;\n",
       "    }\n",
       "\n",
       "    .dataframe tbody tr th {\n",
       "        vertical-align: top;\n",
       "    }\n",
       "\n",
       "    .dataframe thead th {\n",
       "        text-align: right;\n",
       "    }\n",
       "</style>\n",
       "<table border=\"1\" class=\"dataframe\">\n",
       "  <thead>\n",
       "    <tr style=\"text-align: right;\">\n",
       "      <th></th>\n",
       "      <th>Song Titles</th>\n",
       "      <th>Lyrics</th>\n",
       "    </tr>\n",
       "  </thead>\n",
       "  <tbody>\n",
       "    <tr>\n",
       "      <th>0</th>\n",
       "      <td>royals</td>\n",
       "      <td>I've never seen a diamond in the flesh \\nI cut...</td>\n",
       "    </tr>\n",
       "    <tr>\n",
       "      <th>1</th>\n",
       "      <td>tennis court</td>\n",
       "      <td>Don't you think that it's boring how people ta...</td>\n",
       "    </tr>\n",
       "    <tr>\n",
       "      <th>2</th>\n",
       "      <td>400 lux</td>\n",
       "      <td>We're never done with killing time\\nCan I kill...</td>\n",
       "    </tr>\n",
       "    <tr>\n",
       "      <th>3</th>\n",
       "      <td>ribs</td>\n",
       "      <td>The drink you spilt all over me\\r\\nLovers spit...</td>\n",
       "    </tr>\n",
       "    <tr>\n",
       "      <th>4</th>\n",
       "      <td>buzzcut season</td>\n",
       "      <td>I remember when your head caught flame\\r\\nIt k...</td>\n",
       "    </tr>\n",
       "    <tr>\n",
       "      <th>5</th>\n",
       "      <td>glory and gore</td>\n",
       "      <td>There's a humming in the restless summer air\\r...</td>\n",
       "    </tr>\n",
       "    <tr>\n",
       "      <th>6</th>\n",
       "      <td>still sane</td>\n",
       "      <td>Today is my birthday, and I'm riding high\\nHai...</td>\n",
       "    </tr>\n",
       "    <tr>\n",
       "      <th>7</th>\n",
       "      <td>white teeth teens</td>\n",
       "      <td>We wouldn't be seen dead here in the day\\nI gu...</td>\n",
       "    </tr>\n",
       "    <tr>\n",
       "      <th>8</th>\n",
       "      <td>a world alone</td>\n",
       "      <td>That slow burn wait while it gets dark\\r\\nBrui...</td>\n",
       "    </tr>\n",
       "  </tbody>\n",
       "</table>\n",
       "</div>"
      ],
      "text/plain": [
       "         Song Titles                                             Lyrics\n",
       "0             royals  I've never seen a diamond in the flesh \\nI cut...\n",
       "1       tennis court  Don't you think that it's boring how people ta...\n",
       "2            400 lux  We're never done with killing time\\nCan I kill...\n",
       "3               ribs  The drink you spilt all over me\\r\\nLovers spit...\n",
       "4     buzzcut season  I remember when your head caught flame\\r\\nIt k...\n",
       "5     glory and gore  There's a humming in the restless summer air\\r...\n",
       "6         still sane  Today is my birthday, and I'm riding high\\nHai...\n",
       "7  white teeth teens  We wouldn't be seen dead here in the day\\nI gu...\n",
       "8      a world alone  That slow burn wait while it gets dark\\r\\nBrui..."
      ]
     },
     "execution_count": 92,
     "metadata": {},
     "output_type": "execute_result"
    }
   ],
   "source": [
    "heroine_titles = ['Royals', 'Tennis Court', '400 Lux', 'Ribs', 'Buzzcut Season', 'Glory and Gore', 'Still Sane', 'White Teeth Teens', 'A World Alone']\n",
    "heroine_lyrics = [royals_lyrics, tennis_lyrics, lux_lyrics, ribs_lyrics, buzz_lyrics, gore_lyrics, sane_lyrics, white_lyrics, alone_lyrics]\n",
    "\n",
    "data = {'Song Titles' : heroine_titles, 'Lyrics': heroine_lyrics}\n",
    "\n",
    "df = pd.DataFrame(data, columns = ['Song Titles', 'Lyrics'])\n",
    "#for i in range(len(songs_list)):\n",
    "#    df = df.append([i], ignore_index = True)\n",
    "\n",
    "\n",
    "#cleaning the data up using David Julio Panangian's code from Summer 2020\n",
    "#will make sure to link in Works Cited \n",
    "\n",
    "df[\"Song Titles\"]= df[\"Song Titles\"].str.replace(\"\\n\", \" \")\n",
    "df['Song Titles'] = df['Song Titles'].str.replace('\\r', \"\")\n",
    "df[\"Song Titles\"] = df[\"Song Titles\"].str.replace(r\"(\\s*\\[.*?\\]\\s*)\"\n",
    "                                            , \" \").str.strip()\n",
    "df[\"Song Titles\"] = df[\"Song Titles\"].str.replace(\"\\\\'\", \" \")\n",
    "df[\"Song Titles\"] = df['Song Titles'].str.replace('[^\\w\\s]','')\n",
    "df[\"Song Titles\"] = df[\"Song Titles\"].str.lower()\n",
    "\n",
    "df"
   ]
  },
  {
   "cell_type": "markdown",
   "metadata": {},
   "source": [
    "#### will be in use later counting frequencies"
   ]
  },
  {
   "cell_type": "code",
   "execution_count": null,
   "metadata": {},
   "outputs": [],
   "source": [
    "#determine how many times the word young is being used in the song \n",
    "stats = {}\n",
    "for keyword in keywords:\n",
    "    stats[keyword] = lyrics.count(keyword)\n",
    "\n",
    "print(stats)"
   ]
  },
  {
   "cell_type": "markdown",
   "metadata": {},
   "source": [
    "# WordCloud Time"
   ]
  },
  {
   "cell_type": "code",
   "execution_count": 96,
   "metadata": {},
   "outputs": [
    {
     "name": "stdout",
     "output_type": "stream",
     "text": [
      "Collecting wordcloud\n",
      "  Using cached wordcloud-1.8.1.tar.gz (220 kB)\n",
      "Requirement already satisfied: numpy>=1.6.1 in /Users/sumatiwadhwa/opt/anaconda3/lib/python3.8/site-packages (from wordcloud) (1.19.2)\n",
      "Requirement already satisfied: pillow in /Users/sumatiwadhwa/opt/anaconda3/lib/python3.8/site-packages (from wordcloud) (8.0.1)\n",
      "Requirement already satisfied: matplotlib in /Users/sumatiwadhwa/opt/anaconda3/lib/python3.8/site-packages (from wordcloud) (3.3.2)\n",
      "Requirement already satisfied: python-dateutil>=2.1 in /Users/sumatiwadhwa/opt/anaconda3/lib/python3.8/site-packages (from matplotlib->wordcloud) (2.8.1)\n",
      "Requirement already satisfied: certifi>=2020.06.20 in /Users/sumatiwadhwa/opt/anaconda3/lib/python3.8/site-packages (from matplotlib->wordcloud) (2020.6.20)\n",
      "Requirement already satisfied: cycler>=0.10 in /Users/sumatiwadhwa/opt/anaconda3/lib/python3.8/site-packages (from matplotlib->wordcloud) (0.10.0)\n",
      "Requirement already satisfied: kiwisolver>=1.0.1 in /Users/sumatiwadhwa/opt/anaconda3/lib/python3.8/site-packages (from matplotlib->wordcloud) (1.3.0)\n",
      "Requirement already satisfied: pyparsing!=2.0.4,!=2.1.2,!=2.1.6,>=2.0.3 in /Users/sumatiwadhwa/opt/anaconda3/lib/python3.8/site-packages (from matplotlib->wordcloud) (2.4.7)\n",
      "Requirement already satisfied: six>=1.5 in /Users/sumatiwadhwa/opt/anaconda3/lib/python3.8/site-packages (from python-dateutil>=2.1->matplotlib->wordcloud) (1.15.0)\n",
      "Building wheels for collected packages: wordcloud\n",
      "  Building wheel for wordcloud (setup.py) ... \u001b[?25lerror\n",
      "\u001b[31m  ERROR: Command errored out with exit status 1:\n",
      "   command: /Users/sumatiwadhwa/opt/anaconda3/bin/python -u -c 'import sys, setuptools, tokenize; sys.argv[0] = '\"'\"'/private/var/folders/t9/6gxy3xzx63756r6f16sgvjg40000gn/T/pip-install-5qpodeuk/wordcloud/setup.py'\"'\"'; __file__='\"'\"'/private/var/folders/t9/6gxy3xzx63756r6f16sgvjg40000gn/T/pip-install-5qpodeuk/wordcloud/setup.py'\"'\"';f=getattr(tokenize, '\"'\"'open'\"'\"', open)(__file__);code=f.read().replace('\"'\"'\\r\\n'\"'\"', '\"'\"'\\n'\"'\"');f.close();exec(compile(code, __file__, '\"'\"'exec'\"'\"'))' bdist_wheel -d /private/var/folders/t9/6gxy3xzx63756r6f16sgvjg40000gn/T/pip-wheel-ap6zx7xq\n",
      "       cwd: /private/var/folders/t9/6gxy3xzx63756r6f16sgvjg40000gn/T/pip-install-5qpodeuk/wordcloud/\n",
      "  Complete output (24 lines):\n",
      "  running bdist_wheel\n",
      "  running build\n",
      "  running build_py\n",
      "  creating build\n",
      "  creating build/lib.macosx-10.9-x86_64-3.8\n",
      "  creating build/lib.macosx-10.9-x86_64-3.8/wordcloud\n",
      "  copying wordcloud/wordcloud_cli.py -> build/lib.macosx-10.9-x86_64-3.8/wordcloud\n",
      "  copying wordcloud/_version.py -> build/lib.macosx-10.9-x86_64-3.8/wordcloud\n",
      "  copying wordcloud/__init__.py -> build/lib.macosx-10.9-x86_64-3.8/wordcloud\n",
      "  copying wordcloud/tokenization.py -> build/lib.macosx-10.9-x86_64-3.8/wordcloud\n",
      "  copying wordcloud/wordcloud.py -> build/lib.macosx-10.9-x86_64-3.8/wordcloud\n",
      "  copying wordcloud/color_from_image.py -> build/lib.macosx-10.9-x86_64-3.8/wordcloud\n",
      "  copying wordcloud/__main__.py -> build/lib.macosx-10.9-x86_64-3.8/wordcloud\n",
      "  copying wordcloud/stopwords -> build/lib.macosx-10.9-x86_64-3.8/wordcloud\n",
      "  copying wordcloud/DroidSansMono.ttf -> build/lib.macosx-10.9-x86_64-3.8/wordcloud\n",
      "  UPDATING build/lib.macosx-10.9-x86_64-3.8/wordcloud/_version.py\n",
      "  set build/lib.macosx-10.9-x86_64-3.8/wordcloud/_version.py to '1.8.1'\n",
      "  running build_ext\n",
      "  building 'wordcloud.query_integral_image' extension\n",
      "  creating build/temp.macosx-10.9-x86_64-3.8\n",
      "  creating build/temp.macosx-10.9-x86_64-3.8/wordcloud\n",
      "  gcc -Wno-unused-result -Wsign-compare -Wunreachable-code -DNDEBUG -g -fwrapv -O3 -Wall -Wstrict-prototypes -I/Users/sumatiwadhwa/opt/anaconda3/include -arch x86_64 -I/Users/sumatiwadhwa/opt/anaconda3/include -arch x86_64 -I/Users/sumatiwadhwa/opt/anaconda3/include/python3.8 -c wordcloud/query_integral_image.c -o build/temp.macosx-10.9-x86_64-3.8/wordcloud/query_integral_image.o\n",
      "  xcrun: error: invalid active developer path (/Library/Developer/CommandLineTools), missing xcrun at: /Library/Developer/CommandLineTools/usr/bin/xcrun\n",
      "  error: command 'gcc' failed with exit status 1\n",
      "  ----------------------------------------\u001b[0m\n",
      "\u001b[31m  ERROR: Failed building wheel for wordcloud\u001b[0m\n",
      "\u001b[?25h  Running setup.py clean for wordcloud\n",
      "Failed to build wordcloud\n",
      "Installing collected packages: wordcloud\n",
      "    Running setup.py install for wordcloud ... \u001b[?25lerror\n",
      "\u001b[31m    ERROR: Command errored out with exit status 1:\n",
      "     command: /Users/sumatiwadhwa/opt/anaconda3/bin/python -u -c 'import sys, setuptools, tokenize; sys.argv[0] = '\"'\"'/private/var/folders/t9/6gxy3xzx63756r6f16sgvjg40000gn/T/pip-install-5qpodeuk/wordcloud/setup.py'\"'\"'; __file__='\"'\"'/private/var/folders/t9/6gxy3xzx63756r6f16sgvjg40000gn/T/pip-install-5qpodeuk/wordcloud/setup.py'\"'\"';f=getattr(tokenize, '\"'\"'open'\"'\"', open)(__file__);code=f.read().replace('\"'\"'\\r\\n'\"'\"', '\"'\"'\\n'\"'\"');f.close();exec(compile(code, __file__, '\"'\"'exec'\"'\"'))' install --record /private/var/folders/t9/6gxy3xzx63756r6f16sgvjg40000gn/T/pip-record-vpugnc9y/install-record.txt --single-version-externally-managed --compile --install-headers /Users/sumatiwadhwa/opt/anaconda3/include/python3.8/wordcloud\n",
      "         cwd: /private/var/folders/t9/6gxy3xzx63756r6f16sgvjg40000gn/T/pip-install-5qpodeuk/wordcloud/\n",
      "    Complete output (24 lines):\n",
      "    running install\n",
      "    running build\n",
      "    running build_py\n",
      "    creating build\n",
      "    creating build/lib.macosx-10.9-x86_64-3.8\n",
      "    creating build/lib.macosx-10.9-x86_64-3.8/wordcloud\n",
      "    copying wordcloud/wordcloud_cli.py -> build/lib.macosx-10.9-x86_64-3.8/wordcloud\n",
      "    copying wordcloud/_version.py -> build/lib.macosx-10.9-x86_64-3.8/wordcloud\n",
      "    copying wordcloud/__init__.py -> build/lib.macosx-10.9-x86_64-3.8/wordcloud\n",
      "    copying wordcloud/tokenization.py -> build/lib.macosx-10.9-x86_64-3.8/wordcloud\n",
      "    copying wordcloud/wordcloud.py -> build/lib.macosx-10.9-x86_64-3.8/wordcloud\n",
      "    copying wordcloud/color_from_image.py -> build/lib.macosx-10.9-x86_64-3.8/wordcloud\n",
      "    copying wordcloud/__main__.py -> build/lib.macosx-10.9-x86_64-3.8/wordcloud\n",
      "    copying wordcloud/stopwords -> build/lib.macosx-10.9-x86_64-3.8/wordcloud\n",
      "    copying wordcloud/DroidSansMono.ttf -> build/lib.macosx-10.9-x86_64-3.8/wordcloud\n",
      "    UPDATING build/lib.macosx-10.9-x86_64-3.8/wordcloud/_version.py\n",
      "    set build/lib.macosx-10.9-x86_64-3.8/wordcloud/_version.py to '1.8.1'\n",
      "    running build_ext\n",
      "    building 'wordcloud.query_integral_image' extension\n",
      "    creating build/temp.macosx-10.9-x86_64-3.8\n",
      "    creating build/temp.macosx-10.9-x86_64-3.8/wordcloud\n",
      "    gcc -Wno-unused-result -Wsign-compare -Wunreachable-code -DNDEBUG -g -fwrapv -O3 -Wall -Wstrict-prototypes -I/Users/sumatiwadhwa/opt/anaconda3/include -arch x86_64 -I/Users/sumatiwadhwa/opt/anaconda3/include -arch x86_64 -I/Users/sumatiwadhwa/opt/anaconda3/include/python3.8 -c wordcloud/query_integral_image.c -o build/temp.macosx-10.9-x86_64-3.8/wordcloud/query_integral_image.o\n",
      "    xcrun: error: invalid active developer path (/Library/Developer/CommandLineTools), missing xcrun at: /Library/Developer/CommandLineTools/usr/bin/xcrun\n",
      "    error: command 'gcc' failed with exit status 1\n",
      "    ----------------------------------------\u001b[0m\n",
      "\u001b[31mERROR: Command errored out with exit status 1: /Users/sumatiwadhwa/opt/anaconda3/bin/python -u -c 'import sys, setuptools, tokenize; sys.argv[0] = '\"'\"'/private/var/folders/t9/6gxy3xzx63756r6f16sgvjg40000gn/T/pip-install-5qpodeuk/wordcloud/setup.py'\"'\"'; __file__='\"'\"'/private/var/folders/t9/6gxy3xzx63756r6f16sgvjg40000gn/T/pip-install-5qpodeuk/wordcloud/setup.py'\"'\"';f=getattr(tokenize, '\"'\"'open'\"'\"', open)(__file__);code=f.read().replace('\"'\"'\\r\\n'\"'\"', '\"'\"'\\n'\"'\"');f.close();exec(compile(code, __file__, '\"'\"'exec'\"'\"'))' install --record /private/var/folders/t9/6gxy3xzx63756r6f16sgvjg40000gn/T/pip-record-vpugnc9y/install-record.txt --single-version-externally-managed --compile --install-headers /Users/sumatiwadhwa/opt/anaconda3/include/python3.8/wordcloud Check the logs for full command output.\u001b[0m\n",
      "\u001b[?25hNote: you may need to restart the kernel to use updated packages.\n"
     ]
    }
   ],
   "source": [
    "pip install wordcloud "
   ]
  },
  {
   "cell_type": "code",
   "execution_count": null,
   "metadata": {},
   "outputs": [],
   "source": [
    "from wordcloud import WordCloud, STOPWORDS\n",
    "import matplotlib.pyplot as plt"
   ]
  }
 ],
 "metadata": {
  "kernelspec": {
   "display_name": "Python 3",
   "language": "python",
   "name": "python3"
  },
  "language_info": {
   "codemirror_mode": {
    "name": "ipython",
    "version": 3
   },
   "file_extension": ".py",
   "mimetype": "text/x-python",
   "name": "python",
   "nbconvert_exporter": "python",
   "pygments_lexer": "ipython3",
   "version": "3.8.5"
  }
 },
 "nbformat": 4,
 "nbformat_minor": 4
}
